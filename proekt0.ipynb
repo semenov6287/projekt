{
 "cells": [
  {
   "cell_type": "code",
   "execution_count": 12,
   "metadata": {},
   "outputs": [
    {
     "name": "stdout",
     "output_type": "stream",
     "text": [
      "загадано число от 1 до 100\n",
      "введите число50\n"
     ]
    }
   ],
   "source": [
    "import numpy as np\n",
    "\n",
    "number=np.random.randint(1,101)    #загаданное число\n",
    "print(\"загадано число от 1 до 100\")\n",
    "predict=int(input(\"введите число\"))    #предполагаемое число\n",
    "\n",
    "\n",
    "def Binary_Search(number):\n",
    "    predict = list(range(1, 101))\n",
    "    first = 1\n",
    "    last = 100\n",
    "    index = 0\n",
    "    count = 1\n",
    "    while (first <= last) and (index == 0):\n",
    "        count += 1    \"\"\"плюсуем попытку\"\"\"\n",
    "        mid = (first + last) // 2\n",
    "        print(predict[mid])\n",
    "        if predict[mid] == number:\n",
    "            index = mid\n",
    "        else:\n",
    "            if number < predict[mid]:\n",
    "                last = mid - 1\n",
    "            else:\n",
    "                first = mid + 1\n",
    "    return count\n",
    "\n",
    "\n",
    "def score_game(game_core):\n",
    "    '''Запускаем игру 1000 раз, чтобы узнать, как быстро игра угадывает число'''\n",
    "    count_ls = []\n",
    "    np.random.seed(1)  # фиксируем RANDOM SEED, чтобы ваш эксперимент был воспроизводим!\n",
    "    random_array = np.random.randint(1,101, size=(1000))\n",
    "    for number in random_array:\n",
    "        count_ls.append(game_core(number))\n",
    "    score = int(np.mean(count_ls))\n",
    "    print(f\"Ваш алгоритм угадывает число в среднем за {score} попыток\")\n",
    "    return(score)\n",
    "\n",
    "\n",
    "\n",
    "\n",
    "\n",
    "\n",
    "                    \n",
    "\n",
    "   \n",
    "        \n"
   ]
  }
 ],
 "metadata": {
  "kernelspec": {
   "display_name": "Python 3",
   "language": "python",
   "name": "python3"
  },
  "language_info": {
   "codemirror_mode": {
    "name": "ipython",
    "version": 3
   },
   "file_extension": ".py",
   "mimetype": "text/x-python",
   "name": "python",
   "nbconvert_exporter": "python",
   "pygments_lexer": "ipython3",
   "version": "3.8.5"
  }
 },
 "nbformat": 4,
 "nbformat_minor": 4
}
